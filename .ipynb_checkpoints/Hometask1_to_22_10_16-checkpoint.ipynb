{
 "cells": [
  {
   "cell_type": "markdown",
   "metadata": {},
   "source": [
    "# Python\n",
    "### 1. FizzBuzz"
   ]
  },
  {
   "cell_type": "code",
   "execution_count": 1,
   "metadata": {
    "collapsed": false
   },
   "outputs": [
    {
     "name": "stdout",
     "output_type": "stream",
     "text": [
      "1 2 Fizz 4 Buzz Fizz 7 8 Fizz Buzz 11 Fizz 13 14 FizzBuzz\n",
      "16 17 Fizz 19 Buzz Fizz 22 23 Fizz Buzz 26 Fizz 28 29 FizzBuzz\n",
      "31 32 Fizz 34 Buzz Fizz 37 38 Fizz Buzz 41 Fizz 43 44 FizzBuzz\n",
      "46 47 Fizz 49 Buzz Fizz 52 53 Fizz Buzz 56 Fizz 58 59 FizzBuzz\n",
      "61 62 Fizz 64 Buzz Fizz 67 68 Fizz Buzz 71 Fizz 73 74 FizzBuzz\n",
      "76 77 Fizz 79 Buzz Fizz 82 83 Fizz Buzz 86 Fizz 88 89 FizzBuzz\n",
      "91 92 Fizz 94 Buzz Fizz 97 98 Fizz Buzz\n"
     ]
    }
   ],
   "source": [
    "N = 100\n",
    "for i in range(1,N+1):\n",
    "    if (i % 3 == 0) & (i % 5 != 0):\n",
    "        print 'Fizz', \n",
    "    elif (i % 5 == 0) & (i % 3 != 0):\n",
    "        print 'Buzz',\n",
    "    elif (i % 3 == 0) & (i % 5 == 0):\n",
    "        print 'FizzBuzz',\n",
    "    else:\n",
    "        print i,\n",
    "    if (i % 15 == 0):\n",
    "        print\n",
    "        "
   ]
  },
  {
   "cell_type": "markdown",
   "metadata": {},
   "source": [
    "### 2. Сотое число Фибоначчи"
   ]
  },
  {
   "cell_type": "code",
   "execution_count": 2,
   "metadata": {
    "collapsed": false
   },
   "outputs": [
    {
     "name": "stdout",
     "output_type": "stream",
     "text": [
      "354224848179261915075\n"
     ]
    }
   ],
   "source": [
    "a1 = 1\n",
    "a2 = 0\n",
    "N = 100\n",
    "for i in range (1,N+1):\n",
    "    c = a1 + a2\n",
    "    a1, a2 = a2, c\n",
    "print c\n",
    "    "
   ]
  },
  {
   "cell_type": "markdown",
   "metadata": {},
   "source": [
    "### 3. Сортировка"
   ]
  },
  {
   "cell_type": "code",
   "execution_count": 3,
   "metadata": {
    "collapsed": false
   },
   "outputs": [
    {
     "name": "stdout",
     "output_type": "stream",
     "text": [
      "[13, 37, 80, 41, 7, 99, 3, 43, 67, 93]\n",
      "[3, 7, 13, 37, 41, 43, 67, 80, 93, 99]\n"
     ]
    }
   ],
   "source": [
    "from random import randint\n",
    "\n",
    "def QSort(array):\n",
    "    less = []\n",
    "    eq = []\n",
    "    great = []\n",
    "    if len(array)>1:\n",
    "        pivot = array[0]\n",
    "        less = QSort([x for x in array if x < pivot])\n",
    "        great = QSort([x for x in array if x > pivot])\n",
    "        eq = ([x for x in array if x == pivot])\n",
    "        return less + eq + great      \n",
    "    else:\n",
    "        return array\n",
    "\n",
    "N = 10\n",
    "test_array = []\n",
    "\n",
    "for i in range(N):\n",
    "    test_array.append(randint(1, 10 * N))\n",
    "    \n",
    "print test_array\n",
    "print QSort(test_array)"
   ]
  },
  {
   "cell_type": "markdown",
   "metadata": {},
   "source": [
    "### 4. List Comprehensive"
   ]
  },
  {
   "cell_type": "code",
   "execution_count": 4,
   "metadata": {
    "collapsed": false
   },
   "outputs": [
    {
     "name": "stdout",
     "output_type": "stream",
     "text": [
      "[93, 23, 30, 100, 60, 87, 91, 13, 14, 9]\n",
      "[9, 13, 14, 23, 30, 60, 87, 91, 93, 100]\n"
     ]
    }
   ],
   "source": [
    "from random import randint\n",
    "\n",
    "def QSortLH(array): \n",
    "     if len(array) > 1:\n",
    "          return QSortLH([x for x in array[1:] if x<array[0]]) + [array[0]] + QSortLH([x for x in array[1:] if x>=array[0]])\n",
    "     else:\n",
    "          return array\n",
    "\n",
    "N = 10\n",
    "\n",
    "test_array = [randint(1, 10 * N) for x in range(N)]\n",
    "\n",
    "print test_array\n",
    "print QSortLH(test_array)\n",
    "\n",
    "\n"
   ]
  },
  {
   "cell_type": "markdown",
   "metadata": {},
   "source": [
    "# NumPy"
   ]
  },
  {
   "cell_type": "markdown",
   "metadata": {},
   "source": [
    "### 1. numpy.linspace"
   ]
  },
  {
   "cell_type": "code",
   "execution_count": 5,
   "metadata": {
    "collapsed": false
   },
   "outputs": [
    {
     "name": "stdout",
     "output_type": "stream",
     "text": [
      "Number of elements: 1000000\n",
      "linspace took  0.013 sec\n",
      "for loop took  0.523 sec\n",
      "list comprehension took  0.330 sec\n",
      "\n"
     ]
    }
   ],
   "source": [
    "import numpy as np\n",
    "import time\n",
    " \n",
    "class Profiler(object):\n",
    "    def __enter__(self):\n",
    "        self._startTime = time.time()\n",
    "         \n",
    "    def __exit__(self, type, value, traceback):\n",
    "        print \"{:.3f} sec\".format(time.time() - self._startTime)\n",
    "        \n",
    "\n",
    "def linspace_for (start, end, num):\n",
    "    array = []\n",
    "    step = float((end - start)) / (num - 1)\n",
    "    for i in range (num):\n",
    "        array.append(start + step * i)\n",
    "    return array\n",
    "\n",
    "def linspace_lc (start, end, num):\n",
    "    step = float((end - start)) / (num - 1)\n",
    "    array = [start+step*i for i in range(num )]\n",
    "    return array\n",
    "\n",
    "start = 0\n",
    "end = 100\n",
    "num = 1000000\n",
    "\n",
    "print 'Number of elements:', num\n",
    "print 'linspace took ',\n",
    "with Profiler() as p:\n",
    "    a1 =  np.linspace(start, end, num)\n",
    "\n",
    "print 'for loop took ',\n",
    "with Profiler() as p:\n",
    "    a2 =  linspace_for(start, end, num)\n",
    "   \n",
    "print 'list comprehension took ',\n",
    "with Profiler() as p:\n",
    "    a3 =  linspace_lc(start, end, num)\n",
    "print\n"
   ]
  },
  {
   "cell_type": "markdown",
   "metadata": {},
   "source": [
    "### 2. ndarray & list"
   ]
  },
  {
   "cell_type": "code",
   "execution_count": 6,
   "metadata": {
    "collapsed": false
   },
   "outputs": [
    {
     "name": "stdout",
     "output_type": "stream",
     "text": [
      "Размеры матриц: 100 x 100\n",
      "Количество тестов: 100 \n",
      "\n",
      "Результаты (list/np), тип int\n",
      "Сложение: 0.00330 / 0.00005 с\n",
      "Умножение: 0.29132 / 0.00150 с\n",
      "Умножение на k: 0.00281 / 0.00005 с\n",
      "Транспонирование: 0.00136 / 0.00000 с\n",
      "\n",
      "Результаты (list/np), тип float\n",
      "Сложение: 0.00326 / 0.00007 с\n",
      "Умножение: 0.35380 / 0.00149 с\n",
      "Умножение на k: 0.00292 / 0.00005 с\n",
      "Транспонирование: 0.00144 / 0.00001 с\n",
      "\n"
     ]
    }
   ],
   "source": [
    "from random import random, randint\n",
    "import numpy as np\n",
    "import time\n",
    "\n",
    " \n",
    "class Profiler(object):\n",
    "    def __enter__(self):\n",
    "        self._startTime = time.time()\n",
    "         \n",
    "    def __exit__(self, type, value, traceback):\n",
    "        print \"Elapsed time: {:.3f} sec\".format(time.time() - self._startTime)\n",
    "\n",
    "def get_float():        \n",
    "    return random()*max_num\n",
    "\n",
    "def get_int():\n",
    "    return randint(0, max_num)\n",
    "\n",
    "def get_matrix (size, m_type):\n",
    "    if (m_type == 'int'):\n",
    "        return [[get_int() for j in range(size)] for i in range(size)]\n",
    "    else:\n",
    "        return [[get_float() for j in range(size)] for i in range(size)]    \n",
    "\n",
    "def get_matrix_np (size, m_type):\n",
    "    if (m_type == 'int'):\n",
    "        return np.array([[1.5, 2, 3], [4, 5, 6]], dtype=np.complex)\n",
    "    else:\n",
    "        return np.fromfunction(get_float, (size, size))\n",
    "\n",
    "def print_matrix(mat, size):\n",
    "    for i in range(size):\n",
    "        print mat[i]\n",
    "    print\n",
    "\n",
    "\n",
    "def m_sum(mat1, mat2, size):\n",
    "    return [[mat1[i][j] + mat2[i][j] for j in range(size)] for i in range(size)]\n",
    "\n",
    "\n",
    "def cij (mat1, mat2, i, j, size):\n",
    "    s = 0\n",
    "    for r in range(size):\n",
    "        s = s + mat1[i][r] * mat2[r][j]\n",
    "    return s\n",
    "\n",
    "def m_mult(mat1, mat2, size):\n",
    "    return [[cij(mat1, mat2, i, j, size) for j in range(size)] for i in range(size)]\n",
    "\n",
    "def m_k_mult(mat, k, size):\n",
    "    return [[k * mat[i][j] for j in range(size)] for i in range(size)]\n",
    "\n",
    "def transp(mat):\n",
    "    return [[row[i] for row in mat] for i in range (size)]\n",
    "\n",
    "def count_time(size, m_type):\n",
    "    times = np.zeros(8)\n",
    "    answ = ['Сложение:', 'Умножение:', 'Умножение на k:', 'Транспонирование:']\n",
    "    k = get_int()\n",
    "    for i in range (num_of_tests):\n",
    "        mat_list1 = get_matrix(size, m_type)\n",
    "        mat_list2 = get_matrix(size, m_type)\n",
    "        mat_np_1 = np.array(mat_list1)\n",
    "        mat_np_2 = np.array(mat_list2)\n",
    "        \n",
    "        #sum\n",
    "        start_time = time.time()\n",
    "        mat_list_ans = m_sum(mat_list1, mat_list2, size)\n",
    "        end_time = time.time()\n",
    "        times[0] = times[0] + end_time - start_time      \n",
    "        \n",
    "        start_time = time.time()\n",
    "        mat_np_ans = mat_np_1 + mat_np_2\n",
    "        end_time = time.time()\n",
    "        times[1] = times[1] + end_time - start_time \n",
    "        \n",
    "        #mult\n",
    "        start_time = time.time()\n",
    "        mat_list_ans = m_mult(mat_list1, mat_list2, size)\n",
    "        end_time = time.time()\n",
    "        times[2] = times[2] + end_time - start_time  \n",
    "        \n",
    "        start_time = time.time()\n",
    "        mat_np_ans = np.dot(mat_np_1, mat_np_2)\n",
    "        end_time = time.time()\n",
    "        times[3] = times[3] + end_time - start_time \n",
    "        \n",
    "        #k_mult\n",
    "        start_time = time.time()\n",
    "        mat_list_ans = m_k_mult(mat_list1, k, size)\n",
    "        end_time = time.time()\n",
    "        times[4] = times[4] + end_time - start_time  \n",
    "        \n",
    "        start_time = time.time()\n",
    "        mat_np_ans = k * mat_np_1\n",
    "        end_time = time.time()\n",
    "        times[5] = times[5] + end_time - start_time \n",
    "        \n",
    "        #transp\n",
    "        start_time = time.time()\n",
    "        mat_list_ans = transp(mat_list1)\n",
    "        end_time = time.time()\n",
    "        times[6] = times[6] + end_time - start_time  \n",
    "        \n",
    "        start_time = time.time()\n",
    "        mat_np_ans = mat_np_1.transpose\n",
    "        end_time = time.time()\n",
    "        times[7] = times[7] + end_time - start_time \n",
    "    times = times / num_of_tests  \n",
    "    print 'Результаты (list/np), тип',m_type\n",
    "    for i in range(4):\n",
    "        print answ[i], '{:.5f}'.format(times[2*i]), '/ {:.5f}'.format(times[2*i+1]), 'с'\n",
    "    print\n",
    "\n",
    "max_num = 1000\n",
    "num_of_tests = 100\n",
    "size = 100        \n",
    "m_type = 'int'    \n",
    "\n",
    "print 'Размеры матриц:', size, 'x', size\n",
    "print 'Количество тестов:', num_of_tests, '\\n'\n",
    "count_time(size, m_type)\n",
    "count_time(size, 'float')\n"
   ]
  },
  {
   "cell_type": "markdown",
   "metadata": {},
   "source": [
    "# Matplotlib"
   ]
  },
  {
   "cell_type": "markdown",
   "metadata": {
    "collapsed": true
   },
   "source": [
    "### 1. Графики трёх функций"
   ]
  },
  {
   "cell_type": "code",
   "execution_count": 7,
   "metadata": {
    "collapsed": false,
    "scrolled": true
   },
   "outputs": [
    {
     "data": {
      "image/png": "[encoded data removed]",
      "text/plain": [
       "<matplotlib.figure.Figure at 0xdbf9940>"
      ]
     },
     "metadata": {},
     "output_type": "display_data"
    }
   ],
   "source": [
    "import math\n",
    "import pylab as plt\n",
    "import numpy as np\n",
    "\n",
    "xlist = np.linspace(-10, 10, 999)\n",
    "xlist_zeros = np.zeros(999)\n",
    "ylist_sin = [math.sin(x) for x in xlist]\n",
    "ylist_sq = [x**2 for x in xlist]\n",
    "ylist_ln = [x for x in xlist]\n",
    "ylist_mod = [abs(x) for x in xlist]\n",
    "ylist_cos = [math.cos(x) for x in xlist]\n",
    "ylist_coord = [x for x in xlist]\n",
    "\n",
    "plt.plot (xlist, ylist_sin)\n",
    "plt.plot (xlist, ylist_sq)\n",
    "plt.plot (xlist, ylist_ln)\n",
    "plt.grid(True)\n",
    "plt.axhline(0, color='black')\n",
    "plt.axvline(0, color='black')\n",
    "\n",
    "\n",
    "plt.axis([-5, 5, -5, 5])\n",
    "\n",
    "plt.show()"
   ]
  },
  {
   "cell_type": "markdown",
   "metadata": {},
   "source": [
    "### 2. Подписи"
   ]
  },
  {
   "cell_type": "code",
   "execution_count": 8,
   "metadata": {
    "collapsed": false
   },
   "outputs": [
    {
     "data": {
      "image/png": "[encoded data removed]",
      "text/plain": [
       "<matplotlib.figure.Figure at 0x14900b8>"
      ]
     },
     "metadata": {},
     "output_type": "display_data"
    }
   ],
   "source": [
    "line_sin, line_sq, line_ln = plt.plot(xlist, ylist_sin, xlist, ylist_sq, xlist, ylist_ln)\n",
    "\n",
    "plt.axis([-5, 5, -5, 5])\n",
    "plt.grid(True)\n",
    "plt.axhline(0, color='black')\n",
    "plt.axvline(0, color='black')\n",
    "\n",
    "plt.xlabel(u'Ось Х')\n",
    "plt.xlabel(u'Ось Y')\n",
    "\n",
    "plt.legend( (line_sin, line_sq, line_ln), ('y = sin(x)', 'y = x^2', 'y = x'), loc = 'best')\n",
    "\n",
    "plt.show()"
   ]
  },
  {
   "cell_type": "markdown",
   "metadata": {},
   "source": [
    "### 3. Два графика рядом"
   ]
  },
  {
   "cell_type": "code",
   "execution_count": 9,
   "metadata": {
    "collapsed": false
   },
   "outputs": [
    {
     "data": {
      "image/png": "[encoded data removed]",
      "text/plain": [
       "<matplotlib.figure.Figure at 0xd93c588>"
      ]
     },
     "metadata": {},
     "output_type": "display_data"
    }
   ],
   "source": [
    "plt.subplot(1, 2, 1)\n",
    "plt.plot (xlist, ylist_sin)\n",
    "plt.plot (xlist, ylist_sq)\n",
    "plt.plot (xlist, ylist_ln)\n",
    "plt.axhline(0, color='black')\n",
    "plt.axvline(0, color='black')\n",
    "\n",
    "plt.axis([-5, 5, -7.5, 7.5])\n",
    "plt.grid(True)\n",
    "\n",
    "plt.subplot(1, 2, 2)\n",
    "plt.plot (xlist, ylist_mod)\n",
    "plt.plot (xlist, ylist_cos)\n",
    "\n",
    "plt.axis([-5, 5, -7.5, 7.5])\n",
    "plt.grid(True)\n",
    "plt.axhline(0, color='black')\n",
    "plt.axvline(0, color='black')\n",
    "\n",
    "plt.show()"
   ]
  },
  {
   "cell_type": "markdown",
   "metadata": {},
   "source": [
    "### 4. Сохранение"
   ]
  },
  {
   "cell_type": "code",
   "execution_count": 10,
   "metadata": {
    "collapsed": true
   },
   "outputs": [],
   "source": [
    "plt.savefig('graphs.png', format = 'png')"
   ]
  },
  {
   "cell_type": "markdown",
   "metadata": {},
   "source": [
    "# SciPy"
   ]
  },
  {
   "cell_type": "markdown",
   "metadata": {},
   "source": [
    "### 1. Генерация матрицы"
   ]
  },
  {
   "cell_type": "code",
   "execution_count": 11,
   "metadata": {
    "collapsed": false
   },
   "outputs": [
    {
     "name": "stdout",
     "output_type": "stream",
     "text": [
      "[[-0.61538118  0.0567018  -1.68812423  0.66045434 -0.68611313]\n",
      " [ 0.39546639 -2.01908664  1.20884197 -0.24095206 -0.31985626]\n",
      " [ 0.54296237  0.98789876 -1.10549321 -1.31367576  0.44636298]\n",
      " [ 0.75089369 -1.37699491 -1.07026738  1.26234056 -0.24605569]\n",
      " [-1.10900359 -1.4324509  -0.12251547 -0.16452657 -0.40873302]]\n"
     ]
    }
   ],
   "source": [
    "from scipy import random\n",
    "\n",
    "A = random.standard_normal((5,5))\n",
    "print A"
   ]
  },
  {
   "cell_type": "markdown",
   "metadata": {},
   "source": [
    "### 2. Нахождение собственных векторов и значений"
   ]
  },
  {
   "cell_type": "code",
   "execution_count": 12,
   "metadata": {
    "collapsed": false
   },
   "outputs": [
    {
     "name": "stdout",
     "output_type": "stream",
     "text": [
      "[ 2.22167663+0.j          0.43673447+0.j         -1.36806358+0.95991557j\n",
      " -1.36806358-0.95991557j -2.80863741+0.j        ] \n",
      "\n",
      "[[ 0.41680176+0.j         -0.37608619+0.j         -0.56944214+0.j\n",
      "  -0.56944214-0.j         -0.21137929+0.j        ]\n",
      " [-0.08387205+0.j         -0.23371862+0.j          0.21344427+0.29460653j\n",
      "   0.21344427-0.29460653j  0.80580551+0.j        ]\n",
      " [-0.30873914+0.j         -0.09975218+0.j         -0.03354344+0.4324714j\n",
      "  -0.03354344-0.4324714j  -0.30444389+0.j        ]\n",
      " [ 0.83411629+0.j          0.08721712+0.j          0.08357111+0.37139585j\n",
      "   0.08357111-0.37139585j  0.25479413+0.j        ]\n",
      " [-0.16784497+0.j          0.88677926+0.j         -0.44407548+0.11447914j\n",
      "  -0.44407548-0.11447914j  0.38521441+0.j        ]]\n"
     ]
    }
   ],
   "source": [
    "from scipy import linalg\n",
    "\n",
    "evals, evect = linalg.eig(A)\n",
    "\n",
    "\n",
    "print evals, '\\n'\n",
    "print evect"
   ]
  },
  {
   "cell_type": "markdown",
   "metadata": {},
   "source": [
    "### 3. Проверка"
   ]
  },
  {
   "cell_type": "code",
   "execution_count": 14,
   "metadata": {
    "collapsed": false
   },
   "outputs": [
    {
     "name": "stdout",
     "output_type": "stream",
     "text": [
      "[ -5.55111512e-16+0.j   1.94289029e-16+0.j   4.44089210e-16+0.j\n",
      "   0.00000000e+00+0.j   5.55111512e-17+0.j]\n"
     ]
    }
   ],
   "source": [
    "import scipy as sp\n",
    "D = evals[0]*evect[:,0]-sp.dot(A,evect[:,0])\n",
    "print D"
   ]
  }
 ],
 "metadata": {
  "anaconda-cloud": {},
  "kernelspec": {
   "display_name": "Python [default]",
   "language": "python",
   "name": "python2"
  }
 },
 "nbformat": 4,
 "nbformat_minor": 1
}
