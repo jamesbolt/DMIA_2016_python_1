{
 "cells": [
  {
   "cell_type": "markdown",
   "metadata": {},
   "source": [
    "# Python\n",
    "### 1. FizzBuzz"
   ]
  },
  {
   "cell_type": "code",
   "execution_count": 14,
   "metadata": {
    "collapsed": false
   },
   "outputs": [
    {
     "name": "stdout",
     "output_type": "stream",
     "text": [
      "1 2 Fizz 4 Buzz Fizz 7 8 Fizz Buzz 11 Fizz 13 14 FizzBuzz\n",
      "16 17 Fizz 19 Buzz Fizz 22 23 Fizz Buzz 26 Fizz 28 29 FizzBuzz\n",
      "31 32 Fizz 34 Buzz Fizz 37 38 Fizz Buzz 41 Fizz 43 44 FizzBuzz\n",
      "46 47 Fizz 49 Buzz Fizz 52 53 Fizz Buzz 56 Fizz 58 59 FizzBuzz\n",
      "61 62 Fizz 64 Buzz Fizz 67 68 Fizz Buzz 71 Fizz 73 74 FizzBuzz\n",
      "76 77 Fizz 79 Buzz Fizz 82 83 Fizz Buzz 86 Fizz 88 89 FizzBuzz\n",
      "91 92 Fizz 94 Buzz Fizz 97 98 Fizz Buzz\n"
     ]
    }
   ],
   "source": [
    "N = 100\n",
    "for i in range(1,N+1):\n",
    "    if (i % 3 == 0) & (i % 5 != 0):\n",
    "        print 'Fizz', \n",
    "    elif (i % 5 == 0) & (i % 3 != 0):\n",
    "        print 'Buzz',\n",
    "    elif (i % 3 == 0) & (i % 5 == 0):\n",
    "        print 'FizzBuzz',\n",
    "    else:\n",
    "        print i,\n",
    "    if (i % 15 == 0):\n",
    "        print\n",
    "        "
   ]
  },
  {
   "cell_type": "markdown",
   "metadata": {},
   "source": [
    "### 2. Сотое число Фибоначчи"
   ]
  },
  {
   "cell_type": "code",
   "execution_count": 16,
   "metadata": {
    "collapsed": false
   },
   "outputs": [
    {
     "name": "stdout",
     "output_type": "stream",
     "text": [
      "354224848179261915075\n"
     ]
    }
   ],
   "source": [
    "a1 = 1\n",
    "a2 = 0\n",
    "N = 100\n",
    "for i in range (1,N+1):\n",
    "    c = a1 + a2\n",
    "    a1, a2 = a2, c\n",
    "print c\n",
    "    "
   ]
  },
  {
   "cell_type": "markdown",
   "metadata": {},
   "source": [
    "### 3. Сортировка"
   ]
  },
  {
   "cell_type": "code",
   "execution_count": 26,
   "metadata": {
    "collapsed": false
   },
   "outputs": [
    {
     "name": "stdout",
     "output_type": "stream",
     "text": [
      "[12, 98, 4, 49, 8, 2, 86, 56, 48, 68]\n",
      "[2, 4, 8, 12, 48, 49, 56, 68, 86, 98]\n"
     ]
    }
   ],
   "source": [
    "from random import randint\n",
    "\n",
    "def QSort(array):\n",
    "    less = []\n",
    "    eq = []\n",
    "    great = []\n",
    "    if len(array)>1:\n",
    "        pivot = array[0]\n",
    "        for x in array:\n",
    "            if x < pivot:\n",
    "                less.append(x)\n",
    "            elif x > pivot:\n",
    "                great.append(x)\n",
    "            else:\n",
    "                eq.append(x)\n",
    "        return QSort(less) + eq + QSort(great)\n",
    "                \n",
    "    else:\n",
    "        return array\n",
    "\n",
    "N = 10\n",
    "test_array = []\n",
    "\n",
    "for i in range(N):\n",
    "    test_array.append(randint(1, 10 * N))\n",
    "    \n",
    "print test_array\n",
    "print QSort(test_array)"
   ]
  },
  {
   "cell_type": "markdown",
   "metadata": {},
   "source": [
    "### 4. List Comprehensive"
   ]
  },
  {
   "cell_type": "code",
   "execution_count": 38,
   "metadata": {
    "collapsed": false
   },
   "outputs": [
    {
     "name": "stdout",
     "output_type": "stream",
     "text": [
      "[5, 2, 2, 8, 6, 1, 4, 2, 5]\n",
      "[(2, 5, 8), (2, 5, 6), (2, 5, 8), (2, 5, 6), (2, 5, 8), (2, 5, 6), (2, 5, 8), (2, 5, 6), (1, 5, 8), (1, 5, 6), (1, 5, 8), (1, 5, 6), (4, 5, 8), (4, 5, 6), (4, 5, 8), (4, 5, 6), (2, 5, 8), (2, 5, 6), (2, 5, 8), (2, 5, 6)]\n"
     ]
    }
   ],
   "source": [
    "from random import randint\n",
    "\n",
    "def QSort2(array):\n",
    "    sup = [(x, y, z) for x in array for y in array for z in array if ((x < array[0]) & (y == array[0]) & (z > array[0]))]\n",
    "    return sup\n",
    "\n",
    "def QSort(array):\n",
    "    less = []\n",
    "    eq = []\n",
    "    great = []\n",
    "    if len(array)>1:\n",
    "        pivot = array[0]\n",
    "        less = QSort([x for x in array if x < pivot])\n",
    "        great = QSort([x for x in array if x > pivot])\n",
    "        eq = ([x for x in array if x == pivot])\n",
    "        return less + eq + great\n",
    "                \n",
    "    else:\n",
    "        return array\n",
    "\n",
    "N = 10\n",
    "test_array = []\n",
    "\n",
    "for i in range(N):\n",
    "    test_array.append(randint(1, 10 * N))\n",
    "test_array = [5, 2, 2, 8, 6, 1, 4, 2, 5]   \n",
    "print test_array\n",
    "print QSort2(test_array)"
   ]
  },
  {
   "cell_type": "code",
   "execution_count": null,
   "metadata": {
    "collapsed": true
   },
   "outputs": [],
   "source": []
  },
  {
   "cell_type": "code",
   "execution_count": null,
   "metadata": {
    "collapsed": true
   },
   "outputs": [],
   "source": []
  }
 ],
 "metadata": {
  "anaconda-cloud": {},
  "kernelspec": {
   "display_name": "Python [default]",
   "language": "python",
   "name": "python2"
  },
  "language_info": {
   "codemirror_mode": {
    "name": "ipython",
    "version": 2
   },
   "file_extension": ".py",
   "mimetype": "text/x-python",
   "name": "python",
   "nbconvert_exporter": "python",
   "pygments_lexer": "ipython2",
   "version": "2.7.12"
  }
 },
 "nbformat": 4,
 "nbformat_minor": 1
}
