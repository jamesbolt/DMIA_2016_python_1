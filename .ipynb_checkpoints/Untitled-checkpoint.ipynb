{
 "cells": [
  {
   "cell_type": "markdown",
   "metadata": {},
   "source": [
    "# Python\n",
    "### 1. FizzBuzz"
   ]
  },
  {
   "cell_type": "code",
   "execution_count": 14,
   "metadata": {
    "collapsed": false
   },
   "outputs": [
    {
     "name": "stdout",
     "output_type": "stream",
     "text": [
      "1 2 Fizz 4 Buzz Fizz 7 8 Fizz Buzz 11 Fizz 13 14 FizzBuzz\n",
      "16 17 Fizz 19 Buzz Fizz 22 23 Fizz Buzz 26 Fizz 28 29 FizzBuzz\n",
      "31 32 Fizz 34 Buzz Fizz 37 38 Fizz Buzz 41 Fizz 43 44 FizzBuzz\n",
      "46 47 Fizz 49 Buzz Fizz 52 53 Fizz Buzz 56 Fizz 58 59 FizzBuzz\n",
      "61 62 Fizz 64 Buzz Fizz 67 68 Fizz Buzz 71 Fizz 73 74 FizzBuzz\n",
      "76 77 Fizz 79 Buzz Fizz 82 83 Fizz Buzz 86 Fizz 88 89 FizzBuzz\n",
      "91 92 Fizz 94 Buzz Fizz 97 98 Fizz Buzz\n"
     ]
    }
   ],
   "source": [
    "N = 100\n",
    "for i in range(1,N+1):\n",
    "    if (i % 3 == 0) & (i % 5 != 0):\n",
    "        print 'Fizz', \n",
    "    elif (i % 5 == 0) & (i % 3 != 0):\n",
    "        print 'Buzz',\n",
    "    elif (i % 3 == 0) & (i % 5 == 0):\n",
    "        print 'FizzBuzz',\n",
    "    else:\n",
    "        print i,\n",
    "    if (i % 15 == 0):\n",
    "        print\n",
    "        "
   ]
  },
  {
   "cell_type": "markdown",
   "metadata": {},
   "source": [
    "### 2. Сотое число Фибоначчи"
   ]
  },
  {
   "cell_type": "code",
   "execution_count": 40,
   "metadata": {
    "collapsed": false
   },
   "outputs": [
    {
     "name": "stdout",
     "output_type": "stream",
     "text": [
      "354224848179261915075\n"
     ]
    }
   ],
   "source": [
    "a1 = 1\n",
    "a2 = 0\n",
    "N = 100\n",
    "for i in range (1,N+1):\n",
    "    c = a1 + a2\n",
    "    a1, a2 = a2, c\n",
    "print c\n",
    "    "
   ]
  },
  {
   "cell_type": "markdown",
   "metadata": {},
   "source": [
    "### 3. Сортировка"
   ]
  },
  {
   "cell_type": "code",
   "execution_count": 89,
   "metadata": {
    "collapsed": false
   },
   "outputs": [
    {
     "name": "stdout",
     "output_type": "stream",
     "text": [
      "[51, 68, 17, 91, 72, 60, 67, 55, 79, 54]\n",
      "[17, 51, 54, 55, 60, 67, 68, 72, 79, 91]\n"
     ]
    }
   ],
   "source": [
    "from random import randint\n",
    "\n",
    "def QSort(array):\n",
    "    less = []\n",
    "    eq = []\n",
    "    great = []\n",
    "    if len(array)>1:\n",
    "        pivot = array[0]\n",
    "        less = QSort([x for x in array if x < pivot])\n",
    "        great = QSort([x for x in array if x > pivot])\n",
    "        eq = ([x for x in array if x == pivot])\n",
    "        return less + eq + great      \n",
    "    else:\n",
    "        return array\n",
    "\n",
    "N = 10\n",
    "test_array = []\n",
    "\n",
    "for i in range(N):\n",
    "    test_array.append(randint(1, 10 * N))\n",
    "    \n",
    "print test_array\n",
    "print QSort(test_array)"
   ]
  },
  {
   "cell_type": "markdown",
   "metadata": {},
   "source": [
    "### 4. List Comprehensive"
   ]
  },
  {
   "cell_type": "code",
   "execution_count": 88,
   "metadata": {
    "collapsed": false
   },
   "outputs": [
    {
     "name": "stdout",
     "output_type": "stream",
     "text": [
      "[31, 16, 6, 99, 43, 62, 68, 61, 9, 86]\n",
      "[6, 9, 16, 31, 43, 61, 62, 68, 86, 99]\n"
     ]
    }
   ],
   "source": [
    "from random import randint\n",
    "\n",
    "def QSortLH(array): \n",
    "     if len(array) > 1:\n",
    "          return QSortLH([x for x in array[1:] if x<array[0]]) + [array[0]] + QSortLH([x for x in array[1:] if x>=array[0]])\n",
    "     else:\n",
    "          return array\n",
    "\n",
    "N = 10\n",
    "\n",
    "test_array = [randint(1, 10 * N) for x in range(N)]\n",
    "\n",
    "print test_array\n",
    "print QSortLH(test_array)\n",
    "\n",
    "\n"
   ]
  },
  {
   "cell_type": "markdown",
   "metadata": {},
   "source": [
    "# NumPy"
   ]
  },
  {
   "cell_type": "markdown",
   "metadata": {},
   "source": [
    "### 1. numpy.linspace"
   ]
  },
  {
   "cell_type": "code",
   "execution_count": 74,
   "metadata": {
    "collapsed": false
   },
   "outputs": [
    {
     "name": "stdout",
     "output_type": "stream",
     "text": [
      "Number of elements: 1000000\n",
      "linspace took  0.016 sec\n",
      "for loop took  0.681 sec\n",
      "list comprehension took  0.329 sec\n"
     ]
    }
   ],
   "source": [
    "import numpy as np\n",
    "import time\n",
    " \n",
    "class Profiler(object):\n",
    "    def __enter__(self):\n",
    "        self._startTime = time.time()\n",
    "         \n",
    "    def __exit__(self, type, value, traceback):\n",
    "        print \"{:.3f} sec\".format(time.time() - self._startTime)\n",
    "        \n",
    "\n",
    "def linspace_for (start, end, num):\n",
    "    array = []\n",
    "    step = float((end - start)) / (num - 1)\n",
    "    for i in range (num):\n",
    "        array.append(start + step * i)\n",
    "    return array\n",
    "\n",
    "def linspace_lc (start, end, num):\n",
    "    step = float((end - start)) / (num - 1)\n",
    "    array = [start+step*i for i in range(num )]\n",
    "    return array\n",
    "\n",
    "start = 0\n",
    "end = 100\n",
    "num = 1000000\n",
    "\n",
    "print 'Number of elements:', num\n",
    "print 'linspace took ',\n",
    "with Profiler() as p:\n",
    "    a1 =  np.linspace(start, end, num)\n",
    "\n",
    "print 'for loop took ',\n",
    "with Profiler() as p:\n",
    "    a2 =  linspace_for(start, end, num)\n",
    "\n",
    "print 'list comprehension took ',\n",
    "with Profiler() as p:\n",
    "    a3 =  linspace_lc(start, end, num)"
   ]
  },
  {
   "cell_type": "markdown",
   "metadata": {},
   "source": [
    "### 2. ndarray & list"
   ]
  },
  {
   "cell_type": "code",
   "execution_count": 101,
   "metadata": {
    "collapsed": false
   },
   "outputs": [
    {
     "name": "stdout",
     "output_type": "stream",
     "text": [
      "[[79, 56, 90], [57, 19, 50], [92, 74, 100]]\n",
      "[[5, 5, 40], [10, 25, 0], [10, 0, 50]]\n"
     ]
    }
   ],
   "source": [
    "from random import random, randint\n",
    "import numpy as np\n",
    "import time\n",
    "\n",
    "max_num = 10\n",
    "size = 3\n",
    " \n",
    "class Profiler(object):\n",
    "    def __enter__(self):\n",
    "        self._startTime = time.time()\n",
    "         \n",
    "    def __exit__(self, type, value, traceback):\n",
    "        print \"Elapsed time: {:.3f} sec\".format(time.time() - self._startTime)\n",
    "\n",
    "def get_float_matrix (size):\n",
    "    return [[random()*max_num for j in range(size)] for i in range(size)]\n",
    "\n",
    "def get_int_matrix (size):\n",
    "    return [[randint(0, max_num) for j in range(size)] for i in range(size)]\n",
    "\n",
    "\n",
    "def m_sum(mat1, mat2, size):\n",
    "    return [[mat1[i][j] + mat2[i][j] for j in range(size)] for i in range(size)]\n",
    "\n",
    "\n",
    "def cij (mat1, mat2, i, j, size):\n",
    "    s = 0\n",
    "    for r in range(size):\n",
    "        s = s + mat1[i][r] * mat2[r][j]\n",
    "    return s\n",
    "\n",
    "def m_mult(mat1, mat2, size):\n",
    "    return [[cij(mat1, mat2, i, j, size) for j in range(size)] for i in range(size)]\n",
    "\n",
    "def m_k_mult(mat, k, size):\n",
    "    return [[k * mat[i][j] for j in range(size)] for i in range(size)]\n",
    "\n",
    "def transp(mat):\n",
    "    return [[row[i] for row in matrix] for i in range (size)]\n",
    "        \n",
    "mat1 = get_int_matrix(size)\n",
    "mat2 = get_int_matrix(size)\n",
    "\n",
    "print m_mult(mat1, mat2, 3)\n",
    "print m_k_mult(mat1, 5, 3)"
   ]
  },
  {
   "cell_type": "code",
   "execution_count": null,
   "metadata": {
    "collapsed": true
   },
   "outputs": [],
   "source": []
  },
  {
   "cell_type": "code",
   "execution_count": null,
   "metadata": {
    "collapsed": true
   },
   "outputs": [],
   "source": []
  }
 ],
 "metadata": {
  "anaconda-cloud": {},
  "kernelspec": {
   "display_name": "Python [default]",
   "language": "python",
   "name": "python2"
  },
  "language_info": {
   "codemirror_mode": {
    "name": "ipython",
    "version": 2
   },
   "file_extension": ".py",
   "mimetype": "text/x-python",
   "name": "python",
   "nbconvert_exporter": "python",
   "pygments_lexer": "ipython2",
   "version": "2.7.12"
  }
 },
 "nbformat": 4,
 "nbformat_minor": 1
}
